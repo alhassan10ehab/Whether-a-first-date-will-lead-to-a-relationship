{
  "nbformat": 4,
  "nbformat_minor": 0,
  "metadata": {
    "colab": {
      "provenance": [],
      "collapsed_sections": [
        "ygjyHSQXNjx6",
        "ng-iGHGSN1-K",
        "9iBh2cEqN-bC",
        "M0NBrazuOFrV",
        "8K1MyA75OLTT",
        "Bg8vh9iEOP8z",
        "jBv4OTL5OYfj",
        "z9K-1lnTOf9L",
        "pIVIrgHBOoGS"
      ]
    },
    "kernelspec": {
      "name": "python3",
      "display_name": "Python 3"
    },
    "language_info": {
      "name": "python"
    }
  },
  "cells": [
    {
      "cell_type": "markdown",
      "source": [
        "#questions\n",
        "\n",
        "#Define the problem\n",
        "\n",
        "the outcome of a specific speed dating session is needed to be predicted based on the profile of two people, therefore a recommendation system is implemented to better match people in speed dating events. but the given data has a lot of missing values that must be handled to perform a good model\n",
        "\n",
        "\n",
        "#What is the input?\n",
        "\n",
        "according to the privided data we have features for each participant which will help us to know some information about Participants help in a prediction process.\n",
        "\n",
        "\n",
        "#What is the output?\n",
        "\n",
        "the two participants are matched or not matched based on the provided data.\n",
        "\n",
        "\n",
        "#What data mining function is required?\n",
        "\n",
        "binary classification function\n",
        "\n",
        "\n",
        "#What could be the challenges?\n",
        "\n",
        "The data have a large number of null values should be handled. in addition you should choose the best model for the classification problem\n",
        "\n",
        "#What is the impact?\n",
        "\n",
        "The recommendation system can select two people that perfectly matches each other based on their answers in the application\n",
        "\n",
        "#What is an ideal solution?\n",
        "\n",
        "handling the missing values in data perfectly and selecting the best hyperparameters that give high performance in  my case I noticed that the best model was the Xgbclassifier performed well\n",
        "\n",
        "#Why a simple linear regression model (without any activation function) is not good for classification task, compared to Perceptron/Logistic regression?\n",
        "A simple linear regression model without any activation function is not suitable for classification tasks because it does not produce binary output. In linear regression, the output is a continuous value that can take any value within a range. In contrast, in classification tasks, the output should be a binary value that represents the class membership of the input. while, perceptron and logistic regression models are specifically designed for binary classification tasks. The perceptron model uses a step function as the activation function, which maps the output to a binary value depending on whether the output is above or below a threshold. The logistic regression model uses the sigmoid function as the activation function, which maps the output to a probability value between 0 and 1, representing the likelihood of the input belonging to the positive class.\n",
        "\n",
        "#What's a decision tree and how it is different to a logistic regression model?\n",
        "A decision tree is a type of supervised machine learning algorithm that is used for classification and regression tasks. It is a tree-like model where each node represents a decision based on the value of a feature, and each branch represents the outcome of that decision.\n",
        "he main difference between decision tree and logistic regression is that decision trees are non-parametric models, meaning that they do not make any assumptions about the functional form of the relationship between the input features and the output variable. In contrast, logistic regression is a parametric model, meaning that it assumes a linear relationship between the input features and the log-odds of the positive class.\n",
        "In addition, decision trees can handle both categorical and continuous input features, while logistic regression is typically used for continuous input features only.\n",
        "\n",
        "#What's the difference between grid search and random search?\n",
        "Grid search and random search are both techniques used for hyperparameter tuning.\n",
        "Grid search involves specifying a set of values for each hyperparameter of the model, and then exhaustively searching through all possible combinations of these values to find the combination that results in the best performance. While, random search  involves randomly sampling a set of values for each hyperparameter of the model, and then evaluating the performance of the model for each combination of these values.\n",
        "\n",
        "#What's the difference between bayesian search and random search?\n",
        "Bayesian search and random search are both techniques used for hyperparameter tuning.\n",
        "Bayesian search, on the other hand, uses a probabilistic model to predict the performance of each hyperparameter configuration based on the results of previous evaluations. The model can be updated after each evaluation to incorporate the new information, and can guide the search towards promising regions of the hyperparameter space. while random search  involves randomly sampling a set of values for each hyperparameter of the model, and then evaluating the performance of the model for each combination of these values."
      ],
      "metadata": {
        "id": "huBmPumn6UY8"
      }
    },
    {
      "cell_type": "markdown",
      "source": [
        "#preprocessing"
      ],
      "metadata": {
        "id": "ygjyHSQXNjx6"
      }
    },
    {
      "cell_type": "code",
      "execution_count": 1,
      "metadata": {
        "colab": {
          "base_uri": "https://localhost:8080/"
        },
        "id": "QKWRpZ9QQgFy",
        "outputId": "b728985e-d094-4235-bf62-6005f2081750"
      },
      "outputs": [
        {
          "output_type": "stream",
          "name": "stdout",
          "text": [
            "Looking in indexes: https://pypi.org/simple, https://us-python.pkg.dev/colab-wheels/public/simple/\n",
            "Collecting scikit-optimize\n",
            "  Downloading scikit_optimize-0.9.0-py2.py3-none-any.whl (100 kB)\n",
            "\u001b[2K     \u001b[90m━━━━━━━━━━━━━━━━━━━━━━━━━━━━━━━━━━━━━━━\u001b[0m \u001b[32m100.3/100.3 KB\u001b[0m \u001b[31m9.9 MB/s\u001b[0m eta \u001b[36m0:00:00\u001b[0m\n",
            "\u001b[?25hRequirement already satisfied: numpy>=1.13.3 in /usr/local/lib/python3.9/dist-packages (from scikit-optimize) (1.22.4)\n",
            "Collecting pyaml>=16.9\n",
            "  Downloading pyaml-21.10.1-py2.py3-none-any.whl (24 kB)\n",
            "Requirement already satisfied: scipy>=0.19.1 in /usr/local/lib/python3.9/dist-packages (from scikit-optimize) (1.10.1)\n",
            "Requirement already satisfied: scikit-learn>=0.20.0 in /usr/local/lib/python3.9/dist-packages (from scikit-optimize) (1.2.2)\n",
            "Requirement already satisfied: joblib>=0.11 in /usr/local/lib/python3.9/dist-packages (from scikit-optimize) (1.1.1)\n",
            "Requirement already satisfied: PyYAML in /usr/local/lib/python3.9/dist-packages (from pyaml>=16.9->scikit-optimize) (6.0)\n",
            "Requirement already satisfied: threadpoolctl>=2.0.0 in /usr/local/lib/python3.9/dist-packages (from scikit-learn>=0.20.0->scikit-optimize) (3.1.0)\n",
            "Installing collected packages: pyaml, scikit-optimize\n",
            "Successfully installed pyaml-21.10.1 scikit-optimize-0.9.0\n"
          ]
        }
      ],
      "source": [
        "#import libaries\n",
        "import pandas as pd\n",
        "from sklearn.model_selection import train_test_split, GridSearchCV\n",
        "from sklearn.pipeline import Pipeline\n",
        "from sklearn.compose import ColumnTransformer\n",
        "from sklearn.impute import SimpleImputer\n",
        "from sklearn.preprocessing import StandardScaler, OneHotEncoder\n",
        "from sklearn.ensemble import RandomForestClassifier\n",
        "from xgboost.sklearn import XGBClassifier\n",
        "from sklearn.model_selection import RandomizedSearchCV\n",
        "!pip install scikit-optimize\n",
        "from skopt import BayesSearchCV\n",
        "from skopt.space import Real, Categorical, Integer"
      ]
    },
    {
      "cell_type": "code",
      "source": [
        "#read data\n",
        "df = pd.read_csv('/content/train.csv')"
      ],
      "metadata": {
        "id": "vlGg7FvIQ9DO"
      },
      "execution_count": 2,
      "outputs": []
    },
    {
      "cell_type": "code",
      "source": [
        "#display the first five rows \n",
        "df.head()"
      ],
      "metadata": {
        "colab": {
          "base_uri": "https://localhost:8080/",
          "height": 235
        },
        "id": "cVoStYs1REBk",
        "outputId": "e6cb7e2b-743d-489d-b5b1-67a287f501af"
      },
      "execution_count": 3,
      "outputs": [
        {
          "output_type": "execute_result",
          "data": {
            "text/plain": [
              "   gender  idg  condtn  wave  round  position  positin1  order  partner  \\\n",
              "0       0    3       2    14     18         2       2.0     14       12   \n",
              "1       1   14       1     3     10         2       NaN      8        8   \n",
              "2       1   14       1    13     10         8       8.0     10       10   \n",
              "3       1   38       2     9     20        18      13.0      6        7   \n",
              "4       1   24       2    14     20         6       6.0     20       17   \n",
              "\n",
              "     pid  ...  sinc3_3  intel3_3  fun3_3  amb3_3  attr5_3  sinc5_3  intel5_3  \\\n",
              "0  372.0  ...      NaN       NaN     NaN     NaN      NaN      NaN       NaN   \n",
              "1   63.0  ...      8.0       8.0     7.0     8.0      NaN      NaN       NaN   \n",
              "2  331.0  ...      NaN       NaN     NaN     NaN      NaN      NaN       NaN   \n",
              "3  200.0  ...      9.0       8.0     8.0     6.0      NaN      NaN       NaN   \n",
              "4  357.0  ...      NaN       NaN     NaN     NaN      NaN      NaN       NaN   \n",
              "\n",
              "   fun5_3  amb5_3    id  \n",
              "0     NaN     NaN  2583  \n",
              "1     NaN     NaN  6830  \n",
              "2     NaN     NaN  4840  \n",
              "3     NaN     NaN  5508  \n",
              "4     NaN     NaN  4828  \n",
              "\n",
              "[5 rows x 192 columns]"
            ],
            "text/html": [
              "\n",
              "  <div id=\"df-22a1061c-715b-4238-a514-60288748ad96\">\n",
              "    <div class=\"colab-df-container\">\n",
              "      <div>\n",
              "<style scoped>\n",
              "    .dataframe tbody tr th:only-of-type {\n",
              "        vertical-align: middle;\n",
              "    }\n",
              "\n",
              "    .dataframe tbody tr th {\n",
              "        vertical-align: top;\n",
              "    }\n",
              "\n",
              "    .dataframe thead th {\n",
              "        text-align: right;\n",
              "    }\n",
              "</style>\n",
              "<table border=\"1\" class=\"dataframe\">\n",
              "  <thead>\n",
              "    <tr style=\"text-align: right;\">\n",
              "      <th></th>\n",
              "      <th>gender</th>\n",
              "      <th>idg</th>\n",
              "      <th>condtn</th>\n",
              "      <th>wave</th>\n",
              "      <th>round</th>\n",
              "      <th>position</th>\n",
              "      <th>positin1</th>\n",
              "      <th>order</th>\n",
              "      <th>partner</th>\n",
              "      <th>pid</th>\n",
              "      <th>...</th>\n",
              "      <th>sinc3_3</th>\n",
              "      <th>intel3_3</th>\n",
              "      <th>fun3_3</th>\n",
              "      <th>amb3_3</th>\n",
              "      <th>attr5_3</th>\n",
              "      <th>sinc5_3</th>\n",
              "      <th>intel5_3</th>\n",
              "      <th>fun5_3</th>\n",
              "      <th>amb5_3</th>\n",
              "      <th>id</th>\n",
              "    </tr>\n",
              "  </thead>\n",
              "  <tbody>\n",
              "    <tr>\n",
              "      <th>0</th>\n",
              "      <td>0</td>\n",
              "      <td>3</td>\n",
              "      <td>2</td>\n",
              "      <td>14</td>\n",
              "      <td>18</td>\n",
              "      <td>2</td>\n",
              "      <td>2.0</td>\n",
              "      <td>14</td>\n",
              "      <td>12</td>\n",
              "      <td>372.0</td>\n",
              "      <td>...</td>\n",
              "      <td>NaN</td>\n",
              "      <td>NaN</td>\n",
              "      <td>NaN</td>\n",
              "      <td>NaN</td>\n",
              "      <td>NaN</td>\n",
              "      <td>NaN</td>\n",
              "      <td>NaN</td>\n",
              "      <td>NaN</td>\n",
              "      <td>NaN</td>\n",
              "      <td>2583</td>\n",
              "    </tr>\n",
              "    <tr>\n",
              "      <th>1</th>\n",
              "      <td>1</td>\n",
              "      <td>14</td>\n",
              "      <td>1</td>\n",
              "      <td>3</td>\n",
              "      <td>10</td>\n",
              "      <td>2</td>\n",
              "      <td>NaN</td>\n",
              "      <td>8</td>\n",
              "      <td>8</td>\n",
              "      <td>63.0</td>\n",
              "      <td>...</td>\n",
              "      <td>8.0</td>\n",
              "      <td>8.0</td>\n",
              "      <td>7.0</td>\n",
              "      <td>8.0</td>\n",
              "      <td>NaN</td>\n",
              "      <td>NaN</td>\n",
              "      <td>NaN</td>\n",
              "      <td>NaN</td>\n",
              "      <td>NaN</td>\n",
              "      <td>6830</td>\n",
              "    </tr>\n",
              "    <tr>\n",
              "      <th>2</th>\n",
              "      <td>1</td>\n",
              "      <td>14</td>\n",
              "      <td>1</td>\n",
              "      <td>13</td>\n",
              "      <td>10</td>\n",
              "      <td>8</td>\n",
              "      <td>8.0</td>\n",
              "      <td>10</td>\n",
              "      <td>10</td>\n",
              "      <td>331.0</td>\n",
              "      <td>...</td>\n",
              "      <td>NaN</td>\n",
              "      <td>NaN</td>\n",
              "      <td>NaN</td>\n",
              "      <td>NaN</td>\n",
              "      <td>NaN</td>\n",
              "      <td>NaN</td>\n",
              "      <td>NaN</td>\n",
              "      <td>NaN</td>\n",
              "      <td>NaN</td>\n",
              "      <td>4840</td>\n",
              "    </tr>\n",
              "    <tr>\n",
              "      <th>3</th>\n",
              "      <td>1</td>\n",
              "      <td>38</td>\n",
              "      <td>2</td>\n",
              "      <td>9</td>\n",
              "      <td>20</td>\n",
              "      <td>18</td>\n",
              "      <td>13.0</td>\n",
              "      <td>6</td>\n",
              "      <td>7</td>\n",
              "      <td>200.0</td>\n",
              "      <td>...</td>\n",
              "      <td>9.0</td>\n",
              "      <td>8.0</td>\n",
              "      <td>8.0</td>\n",
              "      <td>6.0</td>\n",
              "      <td>NaN</td>\n",
              "      <td>NaN</td>\n",
              "      <td>NaN</td>\n",
              "      <td>NaN</td>\n",
              "      <td>NaN</td>\n",
              "      <td>5508</td>\n",
              "    </tr>\n",
              "    <tr>\n",
              "      <th>4</th>\n",
              "      <td>1</td>\n",
              "      <td>24</td>\n",
              "      <td>2</td>\n",
              "      <td>14</td>\n",
              "      <td>20</td>\n",
              "      <td>6</td>\n",
              "      <td>6.0</td>\n",
              "      <td>20</td>\n",
              "      <td>17</td>\n",
              "      <td>357.0</td>\n",
              "      <td>...</td>\n",
              "      <td>NaN</td>\n",
              "      <td>NaN</td>\n",
              "      <td>NaN</td>\n",
              "      <td>NaN</td>\n",
              "      <td>NaN</td>\n",
              "      <td>NaN</td>\n",
              "      <td>NaN</td>\n",
              "      <td>NaN</td>\n",
              "      <td>NaN</td>\n",
              "      <td>4828</td>\n",
              "    </tr>\n",
              "  </tbody>\n",
              "</table>\n",
              "<p>5 rows × 192 columns</p>\n",
              "</div>\n",
              "      <button class=\"colab-df-convert\" onclick=\"convertToInteractive('df-22a1061c-715b-4238-a514-60288748ad96')\"\n",
              "              title=\"Convert this dataframe to an interactive table.\"\n",
              "              style=\"display:none;\">\n",
              "        \n",
              "  <svg xmlns=\"http://www.w3.org/2000/svg\" height=\"24px\"viewBox=\"0 0 24 24\"\n",
              "       width=\"24px\">\n",
              "    <path d=\"M0 0h24v24H0V0z\" fill=\"none\"/>\n",
              "    <path d=\"M18.56 5.44l.94 2.06.94-2.06 2.06-.94-2.06-.94-.94-2.06-.94 2.06-2.06.94zm-11 1L8.5 8.5l.94-2.06 2.06-.94-2.06-.94L8.5 2.5l-.94 2.06-2.06.94zm10 10l.94 2.06.94-2.06 2.06-.94-2.06-.94-.94-2.06-.94 2.06-2.06.94z\"/><path d=\"M17.41 7.96l-1.37-1.37c-.4-.4-.92-.59-1.43-.59-.52 0-1.04.2-1.43.59L10.3 9.45l-7.72 7.72c-.78.78-.78 2.05 0 2.83L4 21.41c.39.39.9.59 1.41.59.51 0 1.02-.2 1.41-.59l7.78-7.78 2.81-2.81c.8-.78.8-2.07 0-2.86zM5.41 20L4 18.59l7.72-7.72 1.47 1.35L5.41 20z\"/>\n",
              "  </svg>\n",
              "      </button>\n",
              "      \n",
              "  <style>\n",
              "    .colab-df-container {\n",
              "      display:flex;\n",
              "      flex-wrap:wrap;\n",
              "      gap: 12px;\n",
              "    }\n",
              "\n",
              "    .colab-df-convert {\n",
              "      background-color: #E8F0FE;\n",
              "      border: none;\n",
              "      border-radius: 50%;\n",
              "      cursor: pointer;\n",
              "      display: none;\n",
              "      fill: #1967D2;\n",
              "      height: 32px;\n",
              "      padding: 0 0 0 0;\n",
              "      width: 32px;\n",
              "    }\n",
              "\n",
              "    .colab-df-convert:hover {\n",
              "      background-color: #E2EBFA;\n",
              "      box-shadow: 0px 1px 2px rgba(60, 64, 67, 0.3), 0px 1px 3px 1px rgba(60, 64, 67, 0.15);\n",
              "      fill: #174EA6;\n",
              "    }\n",
              "\n",
              "    [theme=dark] .colab-df-convert {\n",
              "      background-color: #3B4455;\n",
              "      fill: #D2E3FC;\n",
              "    }\n",
              "\n",
              "    [theme=dark] .colab-df-convert:hover {\n",
              "      background-color: #434B5C;\n",
              "      box-shadow: 0px 1px 3px 1px rgba(0, 0, 0, 0.15);\n",
              "      filter: drop-shadow(0px 1px 2px rgba(0, 0, 0, 0.3));\n",
              "      fill: #FFFFFF;\n",
              "    }\n",
              "  </style>\n",
              "\n",
              "      <script>\n",
              "        const buttonEl =\n",
              "          document.querySelector('#df-22a1061c-715b-4238-a514-60288748ad96 button.colab-df-convert');\n",
              "        buttonEl.style.display =\n",
              "          google.colab.kernel.accessAllowed ? 'block' : 'none';\n",
              "\n",
              "        async function convertToInteractive(key) {\n",
              "          const element = document.querySelector('#df-22a1061c-715b-4238-a514-60288748ad96');\n",
              "          const dataTable =\n",
              "            await google.colab.kernel.invokeFunction('convertToInteractive',\n",
              "                                                     [key], {});\n",
              "          if (!dataTable) return;\n",
              "\n",
              "          const docLinkHtml = 'Like what you see? Visit the ' +\n",
              "            '<a target=\"_blank\" href=https://colab.research.google.com/notebooks/data_table.ipynb>data table notebook</a>'\n",
              "            + ' to learn more about interactive tables.';\n",
              "          element.innerHTML = '';\n",
              "          dataTable['output_type'] = 'display_data';\n",
              "          await google.colab.output.renderOutput(dataTable, element);\n",
              "          const docLink = document.createElement('div');\n",
              "          docLink.innerHTML = docLinkHtml;\n",
              "          element.appendChild(docLink);\n",
              "        }\n",
              "      </script>\n",
              "    </div>\n",
              "  </div>\n",
              "  "
            ]
          },
          "metadata": {},
          "execution_count": 3
        }
      ]
    },
    {
      "cell_type": "code",
      "source": [
        "#display the dimension of the data\n",
        "df.shape"
      ],
      "metadata": {
        "colab": {
          "base_uri": "https://localhost:8080/"
        },
        "id": "uyAM2DarRF3c",
        "outputId": "bc78c22e-3950-4e7e-ebe0-cafa54f3740f"
      },
      "execution_count": 4,
      "outputs": [
        {
          "output_type": "execute_result",
          "data": {
            "text/plain": [
              "(5909, 192)"
            ]
          },
          "metadata": {},
          "execution_count": 4
        }
      ]
    },
    {
      "cell_type": "code",
      "source": [
        "#drop duplicates but not found any duplicated rows\n",
        "df = df.drop_duplicates()\n",
        "df.shape"
      ],
      "metadata": {
        "colab": {
          "base_uri": "https://localhost:8080/"
        },
        "id": "_oLM37AzRL1c",
        "outputId": "16c58b90-5a49-4b30-e1dc-dd2a4979e863"
      },
      "execution_count": 5,
      "outputs": [
        {
          "output_type": "execute_result",
          "data": {
            "text/plain": [
              "(5909, 192)"
            ]
          },
          "metadata": {},
          "execution_count": 5
        }
      ]
    },
    {
      "cell_type": "code",
      "source": [
        "\n",
        "df.nunique()"
      ],
      "metadata": {
        "colab": {
          "base_uri": "https://localhost:8080/"
        },
        "id": "be_hWVRDSdyj",
        "outputId": "bb2d82cf-0274-40ee-acdc-ae4ec0657f0f"
      },
      "execution_count": 6,
      "outputs": [
        {
          "output_type": "execute_result",
          "data": {
            "text/plain": [
              "gender         2\n",
              "idg           44\n",
              "condtn         2\n",
              "wave          21\n",
              "round         15\n",
              "            ... \n",
              "sinc5_3        9\n",
              "intel5_3       7\n",
              "fun5_3        10\n",
              "amb5_3         9\n",
              "id          5909\n",
              "Length: 192, dtype: int64"
            ]
          },
          "metadata": {},
          "execution_count": 6
        }
      ]
    },
    {
      "cell_type": "markdown",
      "source": [],
      "metadata": {
        "id": "RexQVhew53_K"
      }
    },
    {
      "cell_type": "code",
      "source": [
        "df.dtypes"
      ],
      "metadata": {
        "colab": {
          "base_uri": "https://localhost:8080/"
        },
        "id": "BBEmr3mwUi5j",
        "outputId": "bc9a9ee1-797e-4380-995d-c1ad107e29d4"
      },
      "execution_count": 7,
      "outputs": [
        {
          "output_type": "execute_result",
          "data": {
            "text/plain": [
              "gender        int64\n",
              "idg           int64\n",
              "condtn        int64\n",
              "wave          int64\n",
              "round         int64\n",
              "             ...   \n",
              "sinc5_3     float64\n",
              "intel5_3    float64\n",
              "fun5_3      float64\n",
              "amb5_3      float64\n",
              "id            int64\n",
              "Length: 192, dtype: object"
            ]
          },
          "metadata": {},
          "execution_count": 7
        }
      ]
    },
    {
      "cell_type": "code",
      "source": [
        "#iIwill take batches from the data to display null values every thirty columns\n",
        "#print percentages of null values from 0:29 \n",
        "print(((df.isna().sum().sort_values()[:30])/len(df))*100)"
      ],
      "metadata": {
        "colab": {
          "base_uri": "https://localhost:8080/"
        },
        "id": "-KKOe-9mSY4U",
        "outputId": "bafac8dc-3b4c-4df7-e6c8-f7e0e7997279"
      },
      "execution_count": 8,
      "outputs": [
        {
          "output_type": "stream",
          "name": "stdout",
          "text": [
            "gender      0.000000\n",
            "samerace    0.000000\n",
            "match       0.000000\n",
            "partner     0.000000\n",
            "order       0.000000\n",
            "id          0.000000\n",
            "position    0.000000\n",
            "round       0.000000\n",
            "wave        0.000000\n",
            "condtn      0.000000\n",
            "idg         0.000000\n",
            "pid         0.135387\n",
            "race        0.761550\n",
            "field       0.761550\n",
            "race_o      0.812320\n",
            "gaming      0.981554\n",
            "imprace     0.981554\n",
            "imprelig    0.981554\n",
            "from        0.981554\n",
            "movies      0.981554\n",
            "theater     0.981554\n",
            "goal        0.981554\n",
            "hiking      0.981554\n",
            "intel2_1    0.981554\n",
            "tv          0.981554\n",
            "sports      0.981554\n",
            "concerts    0.981554\n",
            "exercise    0.981554\n",
            "dining      0.981554\n",
            "museums     0.981554\n",
            "dtype: float64\n"
          ]
        }
      ]
    },
    {
      "cell_type": "code",
      "source": [
        "#print percentages of null values from 30:59 \n",
        "print(((df.isna().sum().sort_values()[30:60])/len(df))*100)"
      ],
      "metadata": {
        "colab": {
          "base_uri": "https://localhost:8080/"
        },
        "id": "AS0bouLZY37C",
        "outputId": "16568eab-43f4-4324-a2a5-52d4063aedd9"
      },
      "execution_count": 9,
      "outputs": [
        {
          "output_type": "stream",
          "name": "stdout",
          "text": [
            "art         0.981554\n",
            "go_out      0.981554\n",
            "tvsports    0.981554\n",
            "fun2_1      0.981554\n",
            "reading     0.981554\n",
            "clubbing    0.981554\n",
            "sinc2_1     0.981554\n",
            "shopping    0.981554\n",
            "yoga        0.981554\n",
            "attr1_1     0.981554\n",
            "sinc1_1     0.981554\n",
            "intel1_1    0.981554\n",
            "music       0.981554\n",
            "attr2_1     0.981554\n",
            "pf_o_att    0.998477\n",
            "pf_o_sin    0.998477\n",
            "pf_o_int    0.998477\n",
            "field_cd    0.998477\n",
            "age         1.066170\n",
            "career      1.083094\n",
            "shar2_1     1.100017\n",
            "fun1_1      1.100017\n",
            "age_o       1.100017\n",
            "amb2_1      1.100017\n",
            "pf_o_fun    1.116940\n",
            "exphappy    1.184634\n",
            "amb1_1      1.201557\n",
            "date        1.218480\n",
            "pf_o_amb    1.235404\n",
            "amb3_1      1.370790\n",
            "dtype: float64\n"
          ]
        }
      ]
    },
    {
      "cell_type": "code",
      "source": [
        "#print percentages of null values from 60:89 \n",
        "print(((df.isna().sum().sort_values()[60:90])/len(df))*100)"
      ],
      "metadata": {
        "colab": {
          "base_uri": "https://localhost:8080/"
        },
        "id": "nuDe9qeWWoZS",
        "outputId": "9b4b5600-593e-4be5-ecaa-e74d3dc224ae"
      },
      "execution_count": 10,
      "outputs": [
        {
          "output_type": "stream",
          "name": "stdout",
          "text": [
            "attr3_1      1.370790\n",
            "sinc3_1      1.370790\n",
            "fun3_1       1.370790\n",
            "intel3_1     1.370790\n",
            "pf_o_sha     1.404637\n",
            "shar1_1      1.489254\n",
            "career_c     1.692334\n",
            "int_corr     1.844644\n",
            "attr         2.420037\n",
            "attr_o       2.589271\n",
            "like         2.961584\n",
            "like_o       3.096971\n",
            "sinc         3.384667\n",
            "intel        3.469284\n",
            "sinc_o       3.536977\n",
            "intel_o      3.723134\n",
            "prob         3.841598\n",
            "prob_o       3.976984\n",
            "met          4.264681\n",
            "fun          4.332374\n",
            "fun_o        4.484684\n",
            "met_o        4.653918\n",
            "amb          8.529362\n",
            "amb_o        8.664749\n",
            "satis_2     10.949399\n",
            "length      10.949399\n",
            "sinc1_2     10.949399\n",
            "fun1_2      10.949399\n",
            "amb1_2      10.949399\n",
            "intel1_2    10.949399\n",
            "dtype: float64\n"
          ]
        }
      ]
    },
    {
      "cell_type": "code",
      "source": [
        "#print percentages of null values from 90:119 \n",
        "print(((df.isna().sum().sort_values()[90:120])/len(df))*100)"
      ],
      "metadata": {
        "colab": {
          "base_uri": "https://localhost:8080/"
        },
        "id": "Ple5jJEPXBJJ",
        "outputId": "221ab401-4bd8-4007-ca32-40717e32ddda"
      },
      "execution_count": 11,
      "outputs": [
        {
          "output_type": "stream",
          "name": "stdout",
          "text": [
            "attr3_2     10.949399\n",
            "sinc3_2     10.949399\n",
            "intel3_2    10.949399\n",
            "fun3_2      10.949399\n",
            "amb3_2      10.949399\n",
            "shar1_2     10.949399\n",
            "attr1_2     11.135556\n",
            "numdat_2    11.338636\n",
            "zipcode     12.184803\n",
            "shar        12.895583\n",
            "shar_o      13.318666\n",
            "match_es    13.978677\n",
            "positin1    22.304959\n",
            "amb4_1      22.778812\n",
            "fun4_1      22.778812\n",
            "intel4_1    22.778812\n",
            "sinc4_1     22.778812\n",
            "attr4_1     22.778812\n",
            "shar4_1     23.066509\n",
            "sinc2_2     31.240481\n",
            "sinc4_2     31.240481\n",
            "intel4_2    31.240481\n",
            "fun4_2      31.240481\n",
            "amb4_2      31.240481\n",
            "shar4_2     31.240481\n",
            "attr2_2     31.240481\n",
            "intel2_2    31.240481\n",
            "amb2_2      31.240481\n",
            "shar2_2     31.240481\n",
            "fun2_2      31.240481\n",
            "dtype: float64\n"
          ]
        }
      ]
    },
    {
      "cell_type": "code",
      "source": [
        "#print percentages of null values from 120:149 \n",
        "print(((df.isna().sum().sort_values()[120:150])/len(df))*100)"
      ],
      "metadata": {
        "colab": {
          "base_uri": "https://localhost:8080/"
        },
        "id": "TQOsKOgLXsPy",
        "outputId": "4f1765e6-a000-49cf-b210-ce58cc8fa0f6"
      },
      "execution_count": 12,
      "outputs": [
        {
          "output_type": "stream",
          "name": "stdout",
          "text": [
            "attr4_2     31.240481\n",
            "undergra    41.326790\n",
            "attr5_1     41.496023\n",
            "amb5_1      41.496023\n",
            "fun5_1      41.496023\n",
            "intel5_1    41.496023\n",
            "sinc5_1     41.496023\n",
            "sinc5_2     47.740734\n",
            "intel5_2    47.740734\n",
            "fun5_2      47.740734\n",
            "amb5_2      47.740734\n",
            "attr5_2     47.740734\n",
            "income      48.434591\n",
            "attr1_s     50.668472\n",
            "sinc1_s     50.668472\n",
            "intel1_s    50.668472\n",
            "fun1_s      50.668472\n",
            "amb1_s      50.668472\n",
            "shar1_s     50.668472\n",
            "attr3_s     51.937722\n",
            "sinc3_s     51.937722\n",
            "amb3_s      51.937722\n",
            "intel3_s    51.937722\n",
            "fun3_s      51.937722\n",
            "intel1_3    52.546962\n",
            "fun1_3      52.546962\n",
            "shar1_3     52.546962\n",
            "attr3_3     52.546962\n",
            "sinc3_3     52.546962\n",
            "intel3_3    52.546962\n",
            "dtype: float64\n"
          ]
        }
      ]
    },
    {
      "cell_type": "code",
      "source": [
        "#print percentages of null values from 150:179 \n",
        "print(((df.isna().sum().sort_values()[150:180])/len(df))*100)"
      ],
      "metadata": {
        "colab": {
          "base_uri": "https://localhost:8080/"
        },
        "id": "PiH2bJ4wYKKJ",
        "outputId": "98d6ee80-6cab-4388-882b-e94d248aa71e"
      },
      "execution_count": 13,
      "outputs": [
        {
          "output_type": "stream",
          "name": "stdout",
          "text": [
            "fun3_3      52.546962\n",
            "amb3_3      52.546962\n",
            "sinc1_3     52.546962\n",
            "attr1_3     52.546962\n",
            "amb1_3      52.546962\n",
            "them_cal    52.546962\n",
            "you_call    52.546962\n",
            "date_3      52.546962\n",
            "tuition     56.947030\n",
            "mn_sat      62.176341\n",
            "amb4_3      64.951768\n",
            "amb2_3      64.951768\n",
            "fun2_3      64.951768\n",
            "intel2_3    64.951768\n",
            "sinc2_3     64.951768\n",
            "attr2_3     64.951768\n",
            "shar4_3     64.951768\n",
            "fun4_3      64.951768\n",
            "intel4_3    64.951768\n",
            "sinc4_3     64.951768\n",
            "attr4_3     64.951768\n",
            "shar7_3     76.087324\n",
            "amb7_3      76.087324\n",
            "fun7_3      76.087324\n",
            "intel7_3    76.087324\n",
            "sinc7_3     76.087324\n",
            "attr7_3     76.087324\n",
            "amb5_3      76.087324\n",
            "intel5_3    76.087324\n",
            "fun5_3      76.087324\n",
            "dtype: float64\n"
          ]
        }
      ]
    },
    {
      "cell_type": "code",
      "source": [
        "#print percentages of null values from 180:192 \n",
        "print(((df.isna().sum().sort_values()[180:])/len(df))*100)"
      ],
      "metadata": {
        "colab": {
          "base_uri": "https://localhost:8080/"
        },
        "id": "hsJksWIAbt_j",
        "outputId": "95739d0e-5026-476a-c578-09f766d34364"
      },
      "execution_count": 14,
      "outputs": [
        {
          "output_type": "stream",
          "name": "stdout",
          "text": [
            "shar2_3     76.087324\n",
            "sinc5_3     76.087324\n",
            "attr5_3     76.087324\n",
            "fun7_2      76.121171\n",
            "attr7_2     76.121171\n",
            "intel7_2    76.121171\n",
            "shar7_2     76.239634\n",
            "sinc7_2     76.476561\n",
            "amb7_2      76.476561\n",
            "expnum      78.304282\n",
            "numdat_3    82.061262\n",
            "num_in_3    92.215265\n",
            "dtype: float64\n"
          ]
        }
      ]
    },
    {
      "cell_type": "code",
      "source": [
        "# some simple transformation (always make a copy before assigning)\n",
        "df2 = df.copy()"
      ],
      "metadata": {
        "id": "-u2fDBhyFeln"
      },
      "execution_count": 15,
      "outputs": []
    },
    {
      "cell_type": "code",
      "source": [
        "#drop columns that have 64% or more of null values\n",
        "df = df.drop(['amb4_3','amb2_3','fun2_3','intel2_3','sinc2_3','attr2_3','shar4_3','fun4_3',\n",
        "              'intel4_3','sinc4_3','attr4_3','shar7_3','amb7_3','fun7_3','intel7_3','sinc7_3','id',\n",
        "              'attr7_3','amb5_3','intel5_3','fun5_3','shar2_3','sinc5_3','attr5_3','fun7_2','idg',\n",
        "              'attr7_2','intel7_2','shar7_2','sinc7_2','amb7_2','expnum','numdat_3','num_in_3','pid'],axis=1)"
      ],
      "metadata": {
        "id": "k5wLNTbagJiF"
      },
      "execution_count": 16,
      "outputs": []
    },
    {
      "cell_type": "code",
      "source": [
        "df.shape"
      ],
      "metadata": {
        "colab": {
          "base_uri": "https://localhost:8080/"
        },
        "id": "usV-6N05rYX1",
        "outputId": "f6ac20ba-64ef-41e5-9174-4f09b0e90599"
      },
      "execution_count": 17,
      "outputs": [
        {
          "output_type": "execute_result",
          "data": {
            "text/plain": [
              "(5909, 157)"
            ]
          },
          "metadata": {},
          "execution_count": 17
        }
      ]
    },
    {
      "cell_type": "code",
      "source": [
        "# checking types for later use\n",
        "df.info()"
      ],
      "metadata": {
        "colab": {
          "base_uri": "https://localhost:8080/"
        },
        "id": "9bjbIVzy73Q_",
        "outputId": "d4fb4314-45bf-437f-d4f5-abaa146e0cf9"
      },
      "execution_count": 18,
      "outputs": [
        {
          "output_type": "stream",
          "name": "stdout",
          "text": [
            "<class 'pandas.core.frame.DataFrame'>\n",
            "Int64Index: 5909 entries, 0 to 5908\n",
            "Columns: 157 entries, gender to amb3_3\n",
            "dtypes: float64(140), int64(9), object(8)\n",
            "memory usage: 7.1+ MB\n"
          ]
        }
      ]
    },
    {
      "cell_type": "code",
      "source": [
        "#assign features and target and split the data into train and validation\n",
        "y = df[['match']]\n",
        "X = df.drop(['match'], axis=1)\n",
        "\n",
        "X_train, X_val, y_train, y_val = train_test_split(X,y,test_size=.1,shuffle=True,random_state=42)"
      ],
      "metadata": {
        "id": "ATrpt8tKD9Qu"
      },
      "execution_count": 19,
      "outputs": []
    },
    {
      "cell_type": "code",
      "source": [
        "# we extract numeric features and categorical features names\n",
        "\n",
        "# select numeric features \n",
        "feat_num = list(X_train.select_dtypes(include=['float64', 'int64']))\n",
        "\n",
        "# select categorical features\n",
        "feat_cat = list(X_train.select_dtypes(include=['object']))\n",
        "\n",
        "print('numeric features:', feat_num)\n",
        "print('categorical features:', feat_cat)"
      ],
      "metadata": {
        "colab": {
          "base_uri": "https://localhost:8080/"
        },
        "id": "592_JNY6HgOe",
        "outputId": "650a9e88-81e5-4936-bcdc-85f4161adbc7"
      },
      "execution_count": 20,
      "outputs": [
        {
          "output_type": "stream",
          "name": "stdout",
          "text": [
            "numeric features: ['gender', 'condtn', 'wave', 'round', 'position', 'positin1', 'order', 'partner', 'int_corr', 'samerace', 'age_o', 'race_o', 'pf_o_att', 'pf_o_sin', 'pf_o_int', 'pf_o_fun', 'pf_o_amb', 'pf_o_sha', 'attr_o', 'sinc_o', 'intel_o', 'fun_o', 'amb_o', 'shar_o', 'like_o', 'prob_o', 'met_o', 'age', 'field_cd', 'race', 'imprace', 'imprelig', 'goal', 'date', 'go_out', 'career_c', 'sports', 'tvsports', 'exercise', 'dining', 'museums', 'art', 'hiking', 'gaming', 'clubbing', 'reading', 'tv', 'theater', 'movies', 'concerts', 'music', 'shopping', 'yoga', 'exphappy', 'attr1_1', 'sinc1_1', 'intel1_1', 'fun1_1', 'amb1_1', 'shar1_1', 'attr4_1', 'sinc4_1', 'intel4_1', 'fun4_1', 'amb4_1', 'shar4_1', 'attr2_1', 'sinc2_1', 'intel2_1', 'fun2_1', 'amb2_1', 'shar2_1', 'attr3_1', 'sinc3_1', 'fun3_1', 'intel3_1', 'amb3_1', 'attr5_1', 'sinc5_1', 'intel5_1', 'fun5_1', 'amb5_1', 'attr', 'sinc', 'intel', 'fun', 'amb', 'shar', 'like', 'prob', 'met', 'match_es', 'attr1_s', 'sinc1_s', 'intel1_s', 'fun1_s', 'amb1_s', 'shar1_s', 'attr3_s', 'sinc3_s', 'intel3_s', 'fun3_s', 'amb3_s', 'satis_2', 'length', 'numdat_2', 'attr1_2', 'sinc1_2', 'intel1_2', 'fun1_2', 'amb1_2', 'shar1_2', 'attr4_2', 'sinc4_2', 'intel4_2', 'fun4_2', 'amb4_2', 'shar4_2', 'attr2_2', 'sinc2_2', 'intel2_2', 'fun2_2', 'amb2_2', 'shar2_2', 'attr3_2', 'sinc3_2', 'intel3_2', 'fun3_2', 'amb3_2', 'attr5_2', 'sinc5_2', 'intel5_2', 'fun5_2', 'amb5_2', 'you_call', 'them_cal', 'date_3', 'attr1_3', 'sinc1_3', 'intel1_3', 'fun1_3', 'amb1_3', 'shar1_3', 'attr3_3', 'sinc3_3', 'intel3_3', 'fun3_3', 'amb3_3']\n",
            "categorical features: ['field', 'undergra', 'mn_sat', 'tuition', 'from', 'zipcode', 'income', 'career']\n"
          ]
        }
      ]
    },
    {
      "cell_type": "markdown",
      "source": [
        "#first model"
      ],
      "metadata": {
        "id": "ng-iGHGSN1-K"
      }
    },
    {
      "cell_type": "code",
      "source": [
        "#define pipe line \n",
        "\n",
        "# define a pipe line for numeric feature preprocessing\n",
        "transformer_numeric = Pipeline(\n",
        "    steps=[\n",
        "        ('imputer', SimpleImputer()),\n",
        "        ('scaler', StandardScaler())]\n",
        ")\n",
        "\n",
        "# define a pipe line for categorical feature preprocessing\n",
        "transformer_categorical = Pipeline(\n",
        "    steps=[\n",
        "        ('imputer', SimpleImputer(strategy='most_frequent')),\n",
        "        ('onehot', OneHotEncoder(handle_unknown='ignore'))\n",
        "    ]\n",
        ")\n",
        "# define the preprocessor  \n",
        "preprocessor = ColumnTransformer(\n",
        "    transformers=[\n",
        "        ('num', transformer_numeric, feat_num),\n",
        "        ('cat', transformer_categorical, feat_cat)\n",
        "    ]\n",
        ")\n",
        "\n",
        "#model\n",
        "xgb = XGBClassifier(silent=False, \n",
        "                      scale_pos_weight=1, \n",
        "                      colsample_bytree = 0.4,\n",
        "                      learning_rate=0.02,\n",
        "                       max_depth=11,\n",
        "                      n_estimators=900,\n",
        "                      subsample = 0.8,\n",
        "                      objective='binary:logistic', \n",
        "                      reg_alpha = 0.3,)\n",
        "\n",
        "# combine the preprocessor with the model as a full pipeline\n",
        "full_pipline = Pipeline(\n",
        "    steps=[\n",
        "        ('preprocessor', preprocessor),\n",
        "        ('model', xgb)\n",
        "    ]\n",
        ")"
      ],
      "metadata": {
        "id": "ZoSXgFDTIScl"
      },
      "execution_count": 22,
      "outputs": []
    },
    {
      "cell_type": "code",
      "source": [
        "full_pipline = full_pipline.fit(X_train,y_train)"
      ],
      "metadata": {
        "colab": {
          "base_uri": "https://localhost:8080/"
        },
        "id": "0REY-Xn4OwUj",
        "outputId": "19d07136-2e77-4b0d-f0e1-6bac60b8a7c5"
      },
      "execution_count": 23,
      "outputs": [
        {
          "output_type": "stream",
          "name": "stdout",
          "text": [
            "[09:43:18] WARNING: ../src/learner.cc:767: \n",
            "Parameters: { \"silent\" } are not used.\n",
            "\n"
          ]
        }
      ]
    },
    {
      "cell_type": "code",
      "source": [
        "param_1 = {\n",
        "     'model__n_estimators': [700,800,900],            \n",
        "     'model__max_depth':[9,10,11] ,\n",
        "     'model__learning_rate' :[0.01,0.02]   \n",
        "     \n",
        "}"
      ],
      "metadata": {
        "id": "xA5tIhitS9By"
      },
      "execution_count": 24,
      "outputs": []
    },
    {
      "cell_type": "markdown",
      "source": [
        "#first trial"
      ],
      "metadata": {
        "id": "9iBh2cEqN-bC"
      }
    },
    {
      "cell_type": "code",
      "source": [
        "grid_search = GridSearchCV(\n",
        "    full_pipline, param_1, cv=5, verbose=5, n_jobs=-1, scoring='roc_auc')\n",
        "\n",
        "grid_search.fit(X_train, y_train)\n",
        "print('best score {}'.format(grid_search.best_score_))\n",
        "print('best score {}'.format(grid_search.best_params_))"
      ],
      "metadata": {
        "colab": {
          "base_uri": "https://localhost:8080/"
        },
        "id": "uSZJ6mhPS53V",
        "outputId": "c1a04f0d-f173-4a85-8c4c-9f97d819486b"
      },
      "execution_count": 34,
      "outputs": [
        {
          "output_type": "stream",
          "name": "stdout",
          "text": [
            "Fitting 5 folds for each of 18 candidates, totalling 90 fits\n",
            "[11:23:33] WARNING: ../src/learner.cc:767: \n",
            "Parameters: { \"silent\" } are not used.\n",
            "\n",
            "best score 0.8780042613259805\n",
            "best score {'model__learning_rate': 0.01, 'model__max_depth': 9, 'model__n_estimators': 900}\n"
          ]
        }
      ]
    },
    {
      "cell_type": "markdown",
      "source": [
        "**observations**\n",
        "\n",
        "in this trial I used XGBClassifier Model and used grid search for tuning hyperparameters and it consumed about one hour and the best were\n",
        "['model__learning_rate': 0.01, 'model__max_depth': 9, 'model__n_estimators': 900]\n",
        "I used kfold cross validation set k=5\n",
        "it was found that:\n",
        "best score 0.8780042613259805  \n",
        "score on leaderboard 0.88213 Public"
      ],
      "metadata": {
        "id": "YwG6aZ3KTlXM"
      }
    },
    {
      "cell_type": "markdown",
      "source": [
        "#second trial"
      ],
      "metadata": {
        "id": "M0NBrazuOFrV"
      }
    },
    {
      "cell_type": "code",
      "source": [
        "bayes_search = BayesSearchCV(full_pipline,param_1, cv=5, verbose=1, n_jobs=-1, scoring='roc_auc')\n",
        "\n",
        "bayes_search.fit(X_train,y_train)\n",
        "\n",
        "print('best score {}'.format(bayes_search.best_score_))\n",
        "\n",
        "print('best score {}'.format(bayes_search.best_params_))"
      ],
      "metadata": {
        "colab": {
          "base_uri": "https://localhost:8080/"
        },
        "id": "Yh8pj6hKXWH7",
        "outputId": "29afe5ef-e92f-4fb3-b6e2-9587e7bac942"
      },
      "execution_count": 40,
      "outputs": [
        {
          "output_type": "stream",
          "name": "stdout",
          "text": [
            "Fitting 5 folds for each of 1 candidates, totalling 5 fits\n",
            "Fitting 5 folds for each of 1 candidates, totalling 5 fits\n",
            "Fitting 5 folds for each of 1 candidates, totalling 5 fits\n",
            "Fitting 5 folds for each of 1 candidates, totalling 5 fits\n",
            "Fitting 5 folds for each of 1 candidates, totalling 5 fits\n",
            "Fitting 5 folds for each of 1 candidates, totalling 5 fits\n",
            "Fitting 5 folds for each of 1 candidates, totalling 5 fits\n",
            "Fitting 5 folds for each of 1 candidates, totalling 5 fits\n",
            "Fitting 5 folds for each of 1 candidates, totalling 5 fits\n",
            "Fitting 5 folds for each of 1 candidates, totalling 5 fits\n",
            "Fitting 5 folds for each of 1 candidates, totalling 5 fits\n",
            "Fitting 5 folds for each of 1 candidates, totalling 5 fits\n",
            "Fitting 5 folds for each of 1 candidates, totalling 5 fits\n",
            "Fitting 5 folds for each of 1 candidates, totalling 5 fits\n",
            "Fitting 5 folds for each of 1 candidates, totalling 5 fits\n",
            "Fitting 5 folds for each of 1 candidates, totalling 5 fits\n",
            "Fitting 5 folds for each of 1 candidates, totalling 5 fits\n",
            "Fitting 5 folds for each of 1 candidates, totalling 5 fits\n",
            "Fitting 5 folds for each of 1 candidates, totalling 5 fits\n",
            "Fitting 5 folds for each of 1 candidates, totalling 5 fits\n",
            "Fitting 5 folds for each of 1 candidates, totalling 5 fits\n",
            "Fitting 5 folds for each of 1 candidates, totalling 5 fits\n",
            "Fitting 5 folds for each of 1 candidates, totalling 5 fits\n",
            "Fitting 5 folds for each of 1 candidates, totalling 5 fits\n",
            "Fitting 5 folds for each of 1 candidates, totalling 5 fits\n",
            "Fitting 5 folds for each of 1 candidates, totalling 5 fits\n",
            "Fitting 5 folds for each of 1 candidates, totalling 5 fits\n",
            "Fitting 5 folds for each of 1 candidates, totalling 5 fits\n",
            "Fitting 5 folds for each of 1 candidates, totalling 5 fits\n",
            "Fitting 5 folds for each of 1 candidates, totalling 5 fits\n"
          ]
        },
        {
          "output_type": "stream",
          "name": "stderr",
          "text": [
            "/usr/local/lib/python3.9/dist-packages/skopt/optimizer/optimizer.py:449: UserWarning: The objective has been evaluated at this point before.\n",
            "  warnings.warn(\"The objective has been evaluated \"\n"
          ]
        },
        {
          "output_type": "stream",
          "name": "stdout",
          "text": [
            "Fitting 5 folds for each of 1 candidates, totalling 5 fits\n"
          ]
        },
        {
          "output_type": "stream",
          "name": "stderr",
          "text": [
            "/usr/local/lib/python3.9/dist-packages/skopt/optimizer/optimizer.py:449: UserWarning: The objective has been evaluated at this point before.\n",
            "  warnings.warn(\"The objective has been evaluated \"\n"
          ]
        },
        {
          "output_type": "stream",
          "name": "stdout",
          "text": [
            "Fitting 5 folds for each of 1 candidates, totalling 5 fits\n",
            "Fitting 5 folds for each of 1 candidates, totalling 5 fits\n",
            "Fitting 5 folds for each of 1 candidates, totalling 5 fits\n",
            "Fitting 5 folds for each of 1 candidates, totalling 5 fits\n",
            "Fitting 5 folds for each of 1 candidates, totalling 5 fits\n",
            "Fitting 5 folds for each of 1 candidates, totalling 5 fits\n",
            "Fitting 5 folds for each of 1 candidates, totalling 5 fits\n",
            "Fitting 5 folds for each of 1 candidates, totalling 5 fits\n",
            "Fitting 5 folds for each of 1 candidates, totalling 5 fits\n"
          ]
        },
        {
          "output_type": "stream",
          "name": "stderr",
          "text": [
            "/usr/local/lib/python3.9/dist-packages/skopt/optimizer/optimizer.py:449: UserWarning: The objective has been evaluated at this point before.\n",
            "  warnings.warn(\"The objective has been evaluated \"\n"
          ]
        },
        {
          "output_type": "stream",
          "name": "stdout",
          "text": [
            "Fitting 5 folds for each of 1 candidates, totalling 5 fits\n",
            "Fitting 5 folds for each of 1 candidates, totalling 5 fits\n"
          ]
        },
        {
          "output_type": "stream",
          "name": "stderr",
          "text": [
            "/usr/local/lib/python3.9/dist-packages/skopt/optimizer/optimizer.py:449: UserWarning: The objective has been evaluated at this point before.\n",
            "  warnings.warn(\"The objective has been evaluated \"\n"
          ]
        },
        {
          "output_type": "stream",
          "name": "stdout",
          "text": [
            "Fitting 5 folds for each of 1 candidates, totalling 5 fits\n",
            "Fitting 5 folds for each of 1 candidates, totalling 5 fits\n",
            "Fitting 5 folds for each of 1 candidates, totalling 5 fits\n",
            "Fitting 5 folds for each of 1 candidates, totalling 5 fits\n",
            "Fitting 5 folds for each of 1 candidates, totalling 5 fits\n",
            "Fitting 5 folds for each of 1 candidates, totalling 5 fits\n",
            "Fitting 5 folds for each of 1 candidates, totalling 5 fits\n",
            "Fitting 5 folds for each of 1 candidates, totalling 5 fits\n",
            "[14:10:22] WARNING: ../src/learner.cc:767: \n",
            "Parameters: { \"silent\" } are not used.\n",
            "\n",
            "best score 0.8782391945408943\n",
            "best score OrderedDict([('model__learning_rate', 0.010193572136616383), ('model__max_depth', 9), ('model__n_estimators', 900)])\n"
          ]
        }
      ]
    },
    {
      "cell_type": "markdown",
      "source": [
        "**observations**\n",
        "\n",
        "in this trial I used XGBClassifier Model and used bayes search for tuning hyperparameters and it consumed about more than one hour and the best were\n",
        "[('model__learning_rate', 0.010193572136616383), ('model__max_depth', 9), ('model__n_estimators', 900)]\n",
        "I used kfold cross validation set k=5\n",
        "it was found that:\n",
        "best score 0.8782391945408943  \n",
        "score on leaderboard 0.88189 Public"
      ],
      "metadata": {
        "id": "BUWP-oIZZy6-"
      }
    },
    {
      "cell_type": "markdown",
      "source": [
        "#third trial"
      ],
      "metadata": {
        "id": "8K1MyA75OLTT"
      }
    },
    {
      "cell_type": "code",
      "source": [
        "random_search = RandomizedSearchCV(\n",
        "    full_pipline, param_1, cv=5, verbose=1, n_jobs=2, scoring='roc_auc')\n",
        "\n",
        "random_search.fit(X_train, y_train)\n",
        "\n",
        "print('best score {}'.format(random_search.best_score_))\n",
        "print('best score {}'.format(random_search.best_params_))"
      ],
      "metadata": {
        "colab": {
          "base_uri": "https://localhost:8080/"
        },
        "id": "qKNpuMyNk-Gy",
        "outputId": "40104ded-c5f8-4072-da27-dd1498ee6f63"
      },
      "execution_count": 27,
      "outputs": [
        {
          "output_type": "stream",
          "name": "stdout",
          "text": [
            "Fitting 5 folds for each of 10 candidates, totalling 50 fits\n",
            "[10:09:36] WARNING: ../src/learner.cc:767: \n",
            "Parameters: { \"silent\" } are not used.\n",
            "\n",
            "best score 0.8777114724931824\n",
            "best score {'model__n_estimators': 700, 'model__max_depth': 9, 'model__learning_rate': 0.01}\n"
          ]
        }
      ]
    },
    {
      "cell_type": "markdown",
      "source": [
        "**observations**\n",
        "\n",
        "in this trial I used XGBClassifier Model and used random search for tuning hyperparameters and it consumed about 47 min and the best were\n",
        "['model__n_estimators': 700, 'model__max_depth': 9, 'model__learning_rate': 0.01]\n",
        "I used kfold cross validation set k=5\n",
        "it was found that:\n",
        "best score 0.8777114724931824  \n",
        "score on leaderboard 0.88213 Public"
      ],
      "metadata": {
        "id": "GacnrYGpacHF"
      }
    },
    {
      "cell_type": "markdown",
      "source": [
        "#second model"
      ],
      "metadata": {
        "id": "Bg8vh9iEOP8z"
      }
    },
    {
      "cell_type": "code",
      "source": [
        "#define pipe line \n",
        "\n",
        "# define a pipe line for numeric feature preprocessing\n",
        "transformer_numeric = Pipeline(\n",
        "    steps=[\n",
        "        ('imputer', SimpleImputer()),\n",
        "        ('scaler', StandardScaler())]\n",
        ")\n",
        "\n",
        "# define a pipe line for categorical feature preprocessing\n",
        "transformer_categorical = Pipeline(\n",
        "    steps=[\n",
        "        ('imputer', SimpleImputer(strategy='most_frequent')),\n",
        "        ('onehot', OneHotEncoder(handle_unknown='ignore'))\n",
        "    ]\n",
        ")\n",
        "# define the preprocessor  \n",
        "preprocessor = ColumnTransformer(\n",
        "    transformers=[\n",
        "        ('num', transformer_numeric, feat_num),\n",
        "        ('cat', transformer_categorical, feat_cat)\n",
        "    ]\n",
        ")\n",
        "\n",
        "#model\n",
        "randm_forest = RandomForestClassifier()\n",
        "\n",
        "# combine the preprocessor with the model as a full pipeline\n",
        "full_pipline = Pipeline(\n",
        "    steps=[\n",
        "        ('preprocessor', preprocessor),\n",
        "        ('model', randm_forest)\n",
        "    ]\n",
        ")"
      ],
      "metadata": {
        "id": "0lV8wGLIWxPi"
      },
      "execution_count": 22,
      "outputs": []
    },
    {
      "cell_type": "code",
      "source": [
        "full_pipline = full_pipline.fit(X_train,y_train)"
      ],
      "metadata": {
        "colab": {
          "base_uri": "https://localhost:8080/"
        },
        "id": "jfvf6UtIuNxL",
        "outputId": "3a85c38b-7535-40c1-ce3c-8f4c0afe03d9"
      },
      "execution_count": 23,
      "outputs": [
        {
          "output_type": "stream",
          "name": "stderr",
          "text": [
            "/usr/local/lib/python3.9/dist-packages/sklearn/pipeline.py:405: DataConversionWarning: A column-vector y was passed when a 1d array was expected. Please change the shape of y to (n_samples,), for example using ravel().\n",
            "  self._final_estimator.fit(Xt, y, **fit_params_last_step)\n"
          ]
        }
      ]
    },
    {
      "cell_type": "code",
      "source": [
        "param_2 = {\n",
        "     'model__n_estimators': [20, 30, 40],            \n",
        "     'model__max_depth':[10, 20, 30] ,\n",
        "     'preprocessor__num__imputer__strategy': ['mean','median']   \n",
        "     \n",
        "}"
      ],
      "metadata": {
        "id": "FTjPhyw3XY2T"
      },
      "execution_count": 24,
      "outputs": []
    },
    {
      "cell_type": "markdown",
      "source": [
        "#fourth trial"
      ],
      "metadata": {
        "id": "jBv4OTL5OYfj"
      }
    },
    {
      "cell_type": "code",
      "source": [
        "grid_search = GridSearchCV(\n",
        "    full_pipline, param_2, cv=5, verbose=5, n_jobs=-1, scoring='roc_auc')\n",
        "\n",
        "grid_search.fit(X_train, y_train)\n",
        "print('best score {}'.format(grid_search.best_score_))\n",
        "print('best score {}'.format(grid_search.best_params_))"
      ],
      "metadata": {
        "colab": {
          "base_uri": "https://localhost:8080/"
        },
        "id": "Pyx7DwraX-hZ",
        "outputId": "f300a501-0b8f-468f-fb0e-2ce5bb95ca69"
      },
      "execution_count": 25,
      "outputs": [
        {
          "output_type": "stream",
          "name": "stdout",
          "text": [
            "Fitting 5 folds for each of 18 candidates, totalling 90 fits\n"
          ]
        },
        {
          "output_type": "stream",
          "name": "stderr",
          "text": [
            "/usr/local/lib/python3.9/dist-packages/sklearn/pipeline.py:405: DataConversionWarning: A column-vector y was passed when a 1d array was expected. Please change the shape of y to (n_samples,), for example using ravel().\n",
            "  self._final_estimator.fit(Xt, y, **fit_params_last_step)\n"
          ]
        },
        {
          "output_type": "stream",
          "name": "stdout",
          "text": [
            "best score 0.8413230042964335\n",
            "best score {'model__max_depth': 10, 'model__n_estimators': 40, 'preprocessor__num__imputer__strategy': 'median'}\n"
          ]
        }
      ]
    },
    {
      "cell_type": "markdown",
      "source": [
        "**observations**\n",
        "\n",
        "in this trial I used random forest Model and used grid search for tuning hyperparameters and it consumed about one hour and the best were\n",
        "['model__max_depth': 10, 'model__n_estimators': 40, 'preprocessor__num__imputer__strategy': 'median']\n",
        "I used kfold cross validation set k=5\n",
        "it was found that:\n",
        "best score 0.8413230042964335  \n",
        "score on leaderboard 0.84113 Public"
      ],
      "metadata": {
        "id": "9toZCHiZbNZF"
      }
    },
    {
      "cell_type": "markdown",
      "source": [
        "#fifth trial"
      ],
      "metadata": {
        "id": "z9K-1lnTOf9L"
      }
    },
    {
      "cell_type": "code",
      "source": [
        "bayes_search = BayesSearchCV(full_pipline,param_2, cv=5, verbose=1, n_jobs=-1, scoring='roc_auc')\n",
        "\n",
        "bayes_search.fit(X_train,y_train)\n",
        "\n",
        "print('best score {}'.format(bayes_search.best_score_))\n",
        "\n",
        "print('best score {}'.format(bayes_search.best_params_))"
      ],
      "metadata": {
        "colab": {
          "base_uri": "https://localhost:8080/"
        },
        "id": "RrmmD-j6uehT",
        "outputId": "a961524b-f98b-4747-b414-42dc5cdcfc37"
      },
      "execution_count": 26,
      "outputs": [
        {
          "output_type": "stream",
          "name": "stdout",
          "text": [
            "Fitting 5 folds for each of 1 candidates, totalling 5 fits\n",
            "Fitting 5 folds for each of 1 candidates, totalling 5 fits\n",
            "Fitting 5 folds for each of 1 candidates, totalling 5 fits\n",
            "Fitting 5 folds for each of 1 candidates, totalling 5 fits\n",
            "Fitting 5 folds for each of 1 candidates, totalling 5 fits\n",
            "Fitting 5 folds for each of 1 candidates, totalling 5 fits\n",
            "Fitting 5 folds for each of 1 candidates, totalling 5 fits\n",
            "Fitting 5 folds for each of 1 candidates, totalling 5 fits\n",
            "Fitting 5 folds for each of 1 candidates, totalling 5 fits\n",
            "Fitting 5 folds for each of 1 candidates, totalling 5 fits\n",
            "Fitting 5 folds for each of 1 candidates, totalling 5 fits\n",
            "Fitting 5 folds for each of 1 candidates, totalling 5 fits\n",
            "Fitting 5 folds for each of 1 candidates, totalling 5 fits\n",
            "Fitting 5 folds for each of 1 candidates, totalling 5 fits\n",
            "Fitting 5 folds for each of 1 candidates, totalling 5 fits\n"
          ]
        },
        {
          "output_type": "stream",
          "name": "stderr",
          "text": [
            "/usr/local/lib/python3.9/dist-packages/skopt/optimizer/optimizer.py:449: UserWarning: The objective has been evaluated at this point before.\n",
            "  warnings.warn(\"The objective has been evaluated \"\n"
          ]
        },
        {
          "output_type": "stream",
          "name": "stdout",
          "text": [
            "Fitting 5 folds for each of 1 candidates, totalling 5 fits\n"
          ]
        },
        {
          "output_type": "stream",
          "name": "stderr",
          "text": [
            "/usr/local/lib/python3.9/dist-packages/skopt/optimizer/optimizer.py:449: UserWarning: The objective has been evaluated at this point before.\n",
            "  warnings.warn(\"The objective has been evaluated \"\n"
          ]
        },
        {
          "output_type": "stream",
          "name": "stdout",
          "text": [
            "Fitting 5 folds for each of 1 candidates, totalling 5 fits\n",
            "Fitting 5 folds for each of 1 candidates, totalling 5 fits\n"
          ]
        },
        {
          "output_type": "stream",
          "name": "stderr",
          "text": [
            "/usr/local/lib/python3.9/dist-packages/skopt/optimizer/optimizer.py:449: UserWarning: The objective has been evaluated at this point before.\n",
            "  warnings.warn(\"The objective has been evaluated \"\n"
          ]
        },
        {
          "output_type": "stream",
          "name": "stdout",
          "text": [
            "Fitting 5 folds for each of 1 candidates, totalling 5 fits\n",
            "Fitting 5 folds for each of 1 candidates, totalling 5 fits\n"
          ]
        },
        {
          "output_type": "stream",
          "name": "stderr",
          "text": [
            "/usr/local/lib/python3.9/dist-packages/skopt/optimizer/optimizer.py:449: UserWarning: The objective has been evaluated at this point before.\n",
            "  warnings.warn(\"The objective has been evaluated \"\n"
          ]
        },
        {
          "output_type": "stream",
          "name": "stdout",
          "text": [
            "Fitting 5 folds for each of 1 candidates, totalling 5 fits\n"
          ]
        },
        {
          "output_type": "stream",
          "name": "stderr",
          "text": [
            "/usr/local/lib/python3.9/dist-packages/skopt/optimizer/optimizer.py:449: UserWarning: The objective has been evaluated at this point before.\n",
            "  warnings.warn(\"The objective has been evaluated \"\n"
          ]
        },
        {
          "output_type": "stream",
          "name": "stdout",
          "text": [
            "Fitting 5 folds for each of 1 candidates, totalling 5 fits\n"
          ]
        },
        {
          "output_type": "stream",
          "name": "stderr",
          "text": [
            "/usr/local/lib/python3.9/dist-packages/skopt/optimizer/optimizer.py:449: UserWarning: The objective has been evaluated at this point before.\n",
            "  warnings.warn(\"The objective has been evaluated \"\n"
          ]
        },
        {
          "output_type": "stream",
          "name": "stdout",
          "text": [
            "Fitting 5 folds for each of 1 candidates, totalling 5 fits\n"
          ]
        },
        {
          "output_type": "stream",
          "name": "stderr",
          "text": [
            "/usr/local/lib/python3.9/dist-packages/skopt/optimizer/optimizer.py:449: UserWarning: The objective has been evaluated at this point before.\n",
            "  warnings.warn(\"The objective has been evaluated \"\n"
          ]
        },
        {
          "output_type": "stream",
          "name": "stdout",
          "text": [
            "Fitting 5 folds for each of 1 candidates, totalling 5 fits\n"
          ]
        },
        {
          "output_type": "stream",
          "name": "stderr",
          "text": [
            "/usr/local/lib/python3.9/dist-packages/skopt/optimizer/optimizer.py:449: UserWarning: The objective has been evaluated at this point before.\n",
            "  warnings.warn(\"The objective has been evaluated \"\n"
          ]
        },
        {
          "output_type": "stream",
          "name": "stdout",
          "text": [
            "Fitting 5 folds for each of 1 candidates, totalling 5 fits\n"
          ]
        },
        {
          "output_type": "stream",
          "name": "stderr",
          "text": [
            "/usr/local/lib/python3.9/dist-packages/skopt/optimizer/optimizer.py:449: UserWarning: The objective has been evaluated at this point before.\n",
            "  warnings.warn(\"The objective has been evaluated \"\n"
          ]
        },
        {
          "output_type": "stream",
          "name": "stdout",
          "text": [
            "Fitting 5 folds for each of 1 candidates, totalling 5 fits\n"
          ]
        },
        {
          "output_type": "stream",
          "name": "stderr",
          "text": [
            "/usr/local/lib/python3.9/dist-packages/skopt/optimizer/optimizer.py:449: UserWarning: The objective has been evaluated at this point before.\n",
            "  warnings.warn(\"The objective has been evaluated \"\n"
          ]
        },
        {
          "output_type": "stream",
          "name": "stdout",
          "text": [
            "Fitting 5 folds for each of 1 candidates, totalling 5 fits\n"
          ]
        },
        {
          "output_type": "stream",
          "name": "stderr",
          "text": [
            "/usr/local/lib/python3.9/dist-packages/skopt/optimizer/optimizer.py:449: UserWarning: The objective has been evaluated at this point before.\n",
            "  warnings.warn(\"The objective has been evaluated \"\n"
          ]
        },
        {
          "output_type": "stream",
          "name": "stdout",
          "text": [
            "Fitting 5 folds for each of 1 candidates, totalling 5 fits\n",
            "Fitting 5 folds for each of 1 candidates, totalling 5 fits\n"
          ]
        },
        {
          "output_type": "stream",
          "name": "stderr",
          "text": [
            "/usr/local/lib/python3.9/dist-packages/skopt/optimizer/optimizer.py:449: UserWarning: The objective has been evaluated at this point before.\n",
            "  warnings.warn(\"The objective has been evaluated \"\n"
          ]
        },
        {
          "output_type": "stream",
          "name": "stdout",
          "text": [
            "Fitting 5 folds for each of 1 candidates, totalling 5 fits\n",
            "Fitting 5 folds for each of 1 candidates, totalling 5 fits\n"
          ]
        },
        {
          "output_type": "stream",
          "name": "stderr",
          "text": [
            "/usr/local/lib/python3.9/dist-packages/skopt/optimizer/optimizer.py:449: UserWarning: The objective has been evaluated at this point before.\n",
            "  warnings.warn(\"The objective has been evaluated \"\n"
          ]
        },
        {
          "output_type": "stream",
          "name": "stdout",
          "text": [
            "Fitting 5 folds for each of 1 candidates, totalling 5 fits\n"
          ]
        },
        {
          "output_type": "stream",
          "name": "stderr",
          "text": [
            "/usr/local/lib/python3.9/dist-packages/skopt/optimizer/optimizer.py:449: UserWarning: The objective has been evaluated at this point before.\n",
            "  warnings.warn(\"The objective has been evaluated \"\n"
          ]
        },
        {
          "output_type": "stream",
          "name": "stdout",
          "text": [
            "Fitting 5 folds for each of 1 candidates, totalling 5 fits\n"
          ]
        },
        {
          "output_type": "stream",
          "name": "stderr",
          "text": [
            "/usr/local/lib/python3.9/dist-packages/skopt/optimizer/optimizer.py:449: UserWarning: The objective has been evaluated at this point before.\n",
            "  warnings.warn(\"The objective has been evaluated \"\n"
          ]
        },
        {
          "output_type": "stream",
          "name": "stdout",
          "text": [
            "Fitting 5 folds for each of 1 candidates, totalling 5 fits\n"
          ]
        },
        {
          "output_type": "stream",
          "name": "stderr",
          "text": [
            "/usr/local/lib/python3.9/dist-packages/skopt/optimizer/optimizer.py:449: UserWarning: The objective has been evaluated at this point before.\n",
            "  warnings.warn(\"The objective has been evaluated \"\n"
          ]
        },
        {
          "output_type": "stream",
          "name": "stdout",
          "text": [
            "Fitting 5 folds for each of 1 candidates, totalling 5 fits\n"
          ]
        },
        {
          "output_type": "stream",
          "name": "stderr",
          "text": [
            "/usr/local/lib/python3.9/dist-packages/skopt/optimizer/optimizer.py:449: UserWarning: The objective has been evaluated at this point before.\n",
            "  warnings.warn(\"The objective has been evaluated \"\n"
          ]
        },
        {
          "output_type": "stream",
          "name": "stdout",
          "text": [
            "Fitting 5 folds for each of 1 candidates, totalling 5 fits\n"
          ]
        },
        {
          "output_type": "stream",
          "name": "stderr",
          "text": [
            "/usr/local/lib/python3.9/dist-packages/skopt/optimizer/optimizer.py:449: UserWarning: The objective has been evaluated at this point before.\n",
            "  warnings.warn(\"The objective has been evaluated \"\n"
          ]
        },
        {
          "output_type": "stream",
          "name": "stdout",
          "text": [
            "Fitting 5 folds for each of 1 candidates, totalling 5 fits\n"
          ]
        },
        {
          "output_type": "stream",
          "name": "stderr",
          "text": [
            "/usr/local/lib/python3.9/dist-packages/skopt/optimizer/optimizer.py:449: UserWarning: The objective has been evaluated at this point before.\n",
            "  warnings.warn(\"The objective has been evaluated \"\n"
          ]
        },
        {
          "output_type": "stream",
          "name": "stdout",
          "text": [
            "Fitting 5 folds for each of 1 candidates, totalling 5 fits\n"
          ]
        },
        {
          "output_type": "stream",
          "name": "stderr",
          "text": [
            "/usr/local/lib/python3.9/dist-packages/skopt/optimizer/optimizer.py:449: UserWarning: The objective has been evaluated at this point before.\n",
            "  warnings.warn(\"The objective has been evaluated \"\n"
          ]
        },
        {
          "output_type": "stream",
          "name": "stdout",
          "text": [
            "Fitting 5 folds for each of 1 candidates, totalling 5 fits\n"
          ]
        },
        {
          "output_type": "stream",
          "name": "stderr",
          "text": [
            "/usr/local/lib/python3.9/dist-packages/skopt/optimizer/optimizer.py:449: UserWarning: The objective has been evaluated at this point before.\n",
            "  warnings.warn(\"The objective has been evaluated \"\n"
          ]
        },
        {
          "output_type": "stream",
          "name": "stdout",
          "text": [
            "Fitting 5 folds for each of 1 candidates, totalling 5 fits\n",
            "Fitting 5 folds for each of 1 candidates, totalling 5 fits\n"
          ]
        },
        {
          "output_type": "stream",
          "name": "stderr",
          "text": [
            "/usr/local/lib/python3.9/dist-packages/skopt/optimizer/optimizer.py:449: UserWarning: The objective has been evaluated at this point before.\n",
            "  warnings.warn(\"The objective has been evaluated \"\n"
          ]
        },
        {
          "output_type": "stream",
          "name": "stdout",
          "text": [
            "Fitting 5 folds for each of 1 candidates, totalling 5 fits\n"
          ]
        },
        {
          "output_type": "stream",
          "name": "stderr",
          "text": [
            "/usr/local/lib/python3.9/dist-packages/skopt/optimizer/optimizer.py:449: UserWarning: The objective has been evaluated at this point before.\n",
            "  warnings.warn(\"The objective has been evaluated \"\n"
          ]
        },
        {
          "output_type": "stream",
          "name": "stdout",
          "text": [
            "Fitting 5 folds for each of 1 candidates, totalling 5 fits\n"
          ]
        },
        {
          "output_type": "stream",
          "name": "stderr",
          "text": [
            "/usr/local/lib/python3.9/dist-packages/skopt/optimizer/optimizer.py:449: UserWarning: The objective has been evaluated at this point before.\n",
            "  warnings.warn(\"The objective has been evaluated \"\n"
          ]
        },
        {
          "output_type": "stream",
          "name": "stdout",
          "text": [
            "Fitting 5 folds for each of 1 candidates, totalling 5 fits\n"
          ]
        },
        {
          "output_type": "stream",
          "name": "stderr",
          "text": [
            "/usr/local/lib/python3.9/dist-packages/skopt/optimizer/optimizer.py:449: UserWarning: The objective has been evaluated at this point before.\n",
            "  warnings.warn(\"The objective has been evaluated \"\n"
          ]
        },
        {
          "output_type": "stream",
          "name": "stdout",
          "text": [
            "Fitting 5 folds for each of 1 candidates, totalling 5 fits\n"
          ]
        },
        {
          "output_type": "stream",
          "name": "stderr",
          "text": [
            "/usr/local/lib/python3.9/dist-packages/skopt/optimizer/optimizer.py:449: UserWarning: The objective has been evaluated at this point before.\n",
            "  warnings.warn(\"The objective has been evaluated \"\n"
          ]
        },
        {
          "output_type": "stream",
          "name": "stdout",
          "text": [
            "Fitting 5 folds for each of 1 candidates, totalling 5 fits\n"
          ]
        },
        {
          "output_type": "stream",
          "name": "stderr",
          "text": [
            "/usr/local/lib/python3.9/dist-packages/skopt/optimizer/optimizer.py:449: UserWarning: The objective has been evaluated at this point before.\n",
            "  warnings.warn(\"The objective has been evaluated \"\n"
          ]
        },
        {
          "output_type": "stream",
          "name": "stdout",
          "text": [
            "Fitting 5 folds for each of 1 candidates, totalling 5 fits\n"
          ]
        },
        {
          "output_type": "stream",
          "name": "stderr",
          "text": [
            "/usr/local/lib/python3.9/dist-packages/skopt/optimizer/optimizer.py:449: UserWarning: The objective has been evaluated at this point before.\n",
            "  warnings.warn(\"The objective has been evaluated \"\n"
          ]
        },
        {
          "output_type": "stream",
          "name": "stdout",
          "text": [
            "Fitting 5 folds for each of 1 candidates, totalling 5 fits\n"
          ]
        },
        {
          "output_type": "stream",
          "name": "stderr",
          "text": [
            "/usr/local/lib/python3.9/dist-packages/skopt/optimizer/optimizer.py:449: UserWarning: The objective has been evaluated at this point before.\n",
            "  warnings.warn(\"The objective has been evaluated \"\n"
          ]
        },
        {
          "output_type": "stream",
          "name": "stdout",
          "text": [
            "Fitting 5 folds for each of 1 candidates, totalling 5 fits\n"
          ]
        },
        {
          "output_type": "stream",
          "name": "stderr",
          "text": [
            "/usr/local/lib/python3.9/dist-packages/skopt/optimizer/optimizer.py:449: UserWarning: The objective has been evaluated at this point before.\n",
            "  warnings.warn(\"The objective has been evaluated \"\n"
          ]
        },
        {
          "output_type": "stream",
          "name": "stdout",
          "text": [
            "Fitting 5 folds for each of 1 candidates, totalling 5 fits\n"
          ]
        },
        {
          "output_type": "stream",
          "name": "stderr",
          "text": [
            "/usr/local/lib/python3.9/dist-packages/sklearn/pipeline.py:405: DataConversionWarning: A column-vector y was passed when a 1d array was expected. Please change the shape of y to (n_samples,), for example using ravel().\n",
            "  self._final_estimator.fit(Xt, y, **fit_params_last_step)\n"
          ]
        },
        {
          "output_type": "stream",
          "name": "stdout",
          "text": [
            "best score 0.8415618709768852\n",
            "best score OrderedDict([('model__max_depth', 10), ('model__n_estimators', 40), ('preprocessor__num__imputer__strategy', 'mean')])\n"
          ]
        }
      ]
    },
    {
      "cell_type": "markdown",
      "source": [
        "**observations**\n",
        "\n",
        "in this trial I used random forest Model and used bayes search for tuning hyperparameters and it consumed about more than one hour and the best were\n",
        "[('model__max_depth', 10), ('model__n_estimators', 40), ('preprocessor__num__imputer__strategy', 'mean')]\n",
        "I used kfold cross validation set k=5\n",
        "it was found that:\n",
        "best score 0.8415618709768852  \n",
        "score on leaderboard 0.83713 Public"
      ],
      "metadata": {
        "id": "83u6vPFxb9e0"
      }
    },
    {
      "cell_type": "markdown",
      "source": [
        "#sixth trial"
      ],
      "metadata": {
        "id": "pIVIrgHBOoGS"
      }
    },
    {
      "cell_type": "code",
      "source": [
        "random_search = RandomizedSearchCV(\n",
        "    full_pipline, param_2, cv=5, verbose=1, n_jobs=2, scoring='roc_auc')\n",
        "\n",
        "random_search.fit(X_train, y_train)\n",
        "\n",
        "print('best score {}'.format(random_search.best_score_))\n",
        "print('best score {}'.format(random_search.best_params_))"
      ],
      "metadata": {
        "colab": {
          "base_uri": "https://localhost:8080/"
        },
        "id": "o7DlEuuQukeR",
        "outputId": "708b2e66-c5ee-490d-f05a-9bb4edcb22ae"
      },
      "execution_count": 27,
      "outputs": [
        {
          "output_type": "stream",
          "name": "stdout",
          "text": [
            "Fitting 5 folds for each of 10 candidates, totalling 50 fits\n"
          ]
        },
        {
          "output_type": "stream",
          "name": "stderr",
          "text": [
            "/usr/local/lib/python3.9/dist-packages/sklearn/pipeline.py:405: DataConversionWarning: A column-vector y was passed when a 1d array was expected. Please change the shape of y to (n_samples,), for example using ravel().\n",
            "  self._final_estimator.fit(Xt, y, **fit_params_last_step)\n"
          ]
        },
        {
          "output_type": "stream",
          "name": "stdout",
          "text": [
            "best score 0.8397536088650712\n",
            "best score {'preprocessor__num__imputer__strategy': 'mean', 'model__n_estimators': 40, 'model__max_depth': 10}\n"
          ]
        }
      ]
    },
    {
      "cell_type": "markdown",
      "source": [
        "**observations**\n",
        "\n",
        "in this trial I used random forest Model and used random search for tuning hyperparameters and it consumed about 47 min and the best were\n",
        "['preprocessor__num__imputer__strategy': 'mean', 'model__n_estimators': 40, 'model__max_depth': 10]\n",
        "I used kfold cross validation set k=5\n",
        "it was found that:\n",
        "best score 0.8397536088650712  \n",
        "score on leaderboard 0.82831 Public"
      ],
      "metadata": {
        "id": "az_RDPbbcaL0"
      }
    }
  ]
}